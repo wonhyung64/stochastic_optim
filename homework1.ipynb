{
 "cells": [
  {
   "cell_type": "markdown",
   "id": "eb65846b-9624-43bb-ab5c-f4264856c2c6",
   "metadata": {},
   "source": [
    "# 확률최적화 과제1\n",
    "# G202158002 신원형"
   ]
  },
  {
   "cell_type": "markdown",
   "id": "5ace0882-2505-4d95-bbaa-7632a5ef1553",
   "metadata": {},
   "source": [
    "## Ex) 2.9"
   ]
  },
  {
   "cell_type": "code",
   "execution_count": 1,
   "id": "698cbcfa-deb4-4a94-bd76-6ce0269f456b",
   "metadata": {},
   "outputs": [],
   "source": [
    "import numpy as np\n",
    "\n",
    "\n",
    "def compute_loss(p, theta, B):\n",
    "    loss = np.sum(np.power(theta[:p//2-1], 4)) + (theta @ B @ theta.T)\n",
    "\n",
    "    return loss\n",
    "\n",
    "\n",
    "def generate_B(p):\n",
    "    off_diagonal = 0.5\n",
    "    sigma = np.ones([p, p]) * off_diagonal\n",
    "    np.fill_diagonal(sigma, 1., wrap=True)\n",
    "    \n",
    "    return sigma\n",
    "\n",
    "\n",
    "def generate_d_k(p, rho):\n",
    "    mu = np.zeros(p)\n",
    "    cov = np.identity(p) * (rho**2)\n",
    "    d_k = np.random.multivariate_normal(mu, cov, 1)\n",
    "\n",
    "    return d_k\n",
    "\n",
    "\n",
    "def init_theta(p):\n",
    "    return np.ones(p)\n",
    "\n",
    "\n",
    "max_iter = 100"
   ]
  },
  {
   "cell_type": "markdown",
   "id": "5a0be84d-2955-4ce1-a7c4-e555547da6c0",
   "metadata": {},
   "source": [
    "### (a)"
   ]
  },
  {
   "cell_type": "code",
   "execution_count": 3,
   "id": "a7607037-70dc-411d-a519-cc2991a1cdcd",
   "metadata": {},
   "outputs": [
    {
     "name": "stdout",
     "output_type": "stream",
     "text": [
      "[rho 0.125] Mean Loss = 8.562021350376195\n",
      "[rho 0.25] Mean Loss = 7.048904586215585\n",
      "[rho 0.5] Mean Loss = 23.47293052643233\n",
      "[rho 1.0] Mean Loss = 108.07435627343435\n"
     ]
    }
   ],
   "source": [
    "p = 20\n",
    "rho_list = [.125, .25, .5, 1.]\n",
    "max_repl = 40\n",
    "\n",
    "B = generate_B(p)\n",
    "\n",
    "for rho in rho_list:\n",
    "    loss_list = []\n",
    "\n",
    "    for seed in range(max_repl):\n",
    "        np.random.seed(seed)\n",
    "        theta = init_theta(p)\n",
    "        current_loss = 1e+9\n",
    "\n",
    "        for iter in range(max_iter):\n",
    "            d_k = generate_d_k(p, rho)\n",
    "            new_theta = theta + d_k\n",
    "            loss = compute_loss(p, new_theta, B)\n",
    "            if loss < current_loss:\n",
    "                theta = new_theta\n",
    "                current_loss = loss\n",
    "\n",
    "        if type(current_loss) != np.float64:\n",
    "            current_loss = current_loss[0,0]\n",
    "        loss_list.append(current_loss)\n",
    "\n",
    "    print(f\"[rho {rho}] Mean Loss = {np.mean(loss_list)}\")"
   ]
  },
  {
   "cell_type": "markdown",
   "id": "6f366118-b817-46bb-b835-582ce597d40f",
   "metadata": {},
   "source": [
    "### (b)"
   ]
  },
  {
   "cell_type": "code",
   "execution_count": 4,
   "id": "aa3fb8b0-9554-47b4-9c36-23011f0ab208",
   "metadata": {},
   "outputs": [
    {
     "name": "stdout",
     "output_type": "stream",
     "text": [
      "[rho 0.125] Mean Loss = 0.0004925655557433911\n",
      "[rho 0.25] Mean Loss = 0.0013197533584475964\n",
      "[rho 0.5] Mean Loss = 0.0047459818410065194\n",
      "[rho 1.0] Mean Loss = 0.02327124684339065\n"
     ]
    }
   ],
   "source": [
    "p = 2\n",
    "rho_list = [.125, .25, .5, 1.]\n",
    "max_repl = 40\n",
    "\n",
    "B = generate_B(p)\n",
    "\n",
    "for rho in rho_list:\n",
    "    loss_list = []\n",
    "\n",
    "    for seed in range(max_repl):\n",
    "        np.random.seed(seed)\n",
    "        theta = init_theta(p)\n",
    "        current_loss = 1e+9\n",
    "\n",
    "        for iter in range(max_iter):\n",
    "            d_k = generate_d_k(p, rho)\n",
    "            new_theta = theta + d_k\n",
    "            loss = compute_loss(p, new_theta, B)\n",
    "            if loss < current_loss:\n",
    "                theta = new_theta\n",
    "                current_loss = loss\n",
    "\n",
    "        if type(current_loss) != np.float64:\n",
    "            current_loss = current_loss[0,0]\n",
    "        loss_list.append(current_loss)\n",
    "\n",
    "    print(f\"[rho {rho}] Mean Loss = {np.mean(loss_list)}\")"
   ]
  },
  {
   "cell_type": "markdown",
   "id": "4dc7ad24-42f1-489d-96c6-7e361a106a7e",
   "metadata": {},
   "source": [
    "## Ex) 2.13"
   ]
  },
  {
   "cell_type": "code",
   "execution_count": 18,
   "id": "2b8bf1bb-ca8f-400c-a1c3-2b5e982f1fb4",
   "metadata": {},
   "outputs": [],
   "source": [
    "import numpy as np\n",
    "\n",
    "\n",
    "def compute_loss(theta, sigma, noisy=True):\n",
    "    loss = np.power(theta[0], 4) + np.power(theta[0], 2) + (theta[0] * theta[1]) + np.power(theta[1], 2)\n",
    "    if noisy:\n",
    "        noise = generate_noise(sigma)\n",
    "        obs_loss = loss + noise\n",
    "    else:\n",
    "        obs_loss = loss\n",
    "\n",
    "    return obs_loss\n",
    "\n",
    "\n",
    "def generate_noise(sigma):\n",
    "    noise = np.random.normal(0, sigma**2, 1)[0]\n",
    "    return noise\n",
    "\n",
    "\n",
    "def generate_d_k():\n",
    "    mu = np.zeros(2)\n",
    "    cov = np.identity(2) * (0.125**2)\n",
    "    d_k = np.random.multivariate_normal(mu, cov, 1)\n",
    "\n",
    "    return d_k\n",
    "\n",
    "\n",
    "def init_theta():\n",
    "    return np.ones(2)"
   ]
  },
  {
   "cell_type": "markdown",
   "id": "6fe5e75e-727f-418f-aadd-bc189c1b7917",
   "metadata": {},
   "source": [
    "### (a)"
   ]
  },
  {
   "cell_type": "code",
   "execution_count": 6,
   "id": "3e3a0133-2a3b-45cd-aa14-67da055ce63f",
   "metadata": {},
   "outputs": [
    {
     "name": "stdout",
     "output_type": "stream",
     "text": [
      "[Method : avg / sigma 0.001] Mean Loss = 3.0853740895768642e-06\n",
      "[Method : avg / sigma 0.01] Mean Loss = -0.0001761567768186725\n",
      "[Method : avg / sigma 0.1] Mean Loss = -0.032135930929431844\n",
      "[Method : avg / sigma 1.0] Mean Loss = -3.5868392951891748\n",
      "[Method : theshold / sigma 0.001] Mean Loss = 0.0020029102356152574\n",
      "[Method : theshold / sigma 0.01] Mean Loss = 0.019835476291479352\n",
      "[Method : theshold / sigma 0.1] Mean Loss = 0.16768989411038782\n",
      "[Method : theshold / sigma 1.0] Mean Loss = -1.5225378988043958\n"
     ]
    }
   ],
   "source": [
    "sigma_list = [0.001, 0.01, 0.1, 1.0]\n",
    "max_iter = 10000\n",
    "max_repl = 40\n",
    "\n",
    "avg_loss_num = 10\n",
    "\n",
    "for method in [\"avg\", \"theshold\"]:\n",
    "\n",
    "    for sigma in sigma_list:\n",
    "        loss_list = []\n",
    "\n",
    "        for seed in range(max_repl):\n",
    "            np.random.seed(seed)\n",
    "            theta = init_theta()\n",
    "            current_loss = 1e+9\n",
    "\n",
    "            for iter in range(max_iter):\n",
    "                d_k = generate_d_k()\n",
    "                new_theta = theta + d_k[0]\n",
    "\n",
    "                if method == \"avg\":\n",
    "                    obs_list = []\n",
    "                    for _ in range(avg_loss_num):\n",
    "                        obs_loss = compute_loss(new_theta, sigma)\n",
    "                        obs_list.append(obs_loss)\n",
    "                    loss = np.mean(obs_loss)\n",
    "                \n",
    "                else:\n",
    "                    loss = (compute_loss(new_theta, sigma) + sigma*2)\n",
    "\n",
    "                if loss < current_loss:\n",
    "                    theta = new_theta\n",
    "                    current_loss = loss\n",
    "\n",
    "            if type(current_loss) != np.float64:\n",
    "                current_loss = current_loss[0,0]\n",
    "            loss_list.append(current_loss)\n",
    "\n",
    "        print(f\"[Method : {method} / sigma {sigma}] Mean Loss = {np.mean(loss_list)}\")"
   ]
  },
  {
   "cell_type": "raw",
   "id": "9b44686e-8edf-4514-9822-ae27e8a7a89d",
   "metadata": {},
   "source": [
    "* 손실함수의 변동 폭을 고려했을 때, Thresholding 방법이 noisy loss measurements 상황에서 더 나은 방법이라고 생각할 수 있음"
   ]
  },
  {
   "cell_type": "markdown",
   "id": "ed4bf2bf-03d2-4784-aa1c-21ee403dbac0",
   "metadata": {},
   "source": [
    "### (b)"
   ]
  },
  {
   "cell_type": "code",
   "execution_count": 20,
   "id": "d03b1c5a-9e06-41a5-ab2a-b0eb27b7d3c1",
   "metadata": {},
   "outputs": [
    {
     "name": "stdout",
     "output_type": "stream",
     "text": [
      "[Noisy Free / sigma 0.001] Loss = 3.484 ± 0.927\n",
      "[Noisy / Method : avg / sigma 0.001] Loss = 0.0 ± 0.0\n",
      "[Noisy / Method : theshold / sigma 0.001] Loss = 0.002 ± 0.0\n"
     ]
    }
   ],
   "source": [
    "sigma_list = [0.001]\n",
    "max_iter = 10000\n",
    "max_repl = 40\n",
    "\n",
    "for sigma in sigma_list:\n",
    "    loss_list = []\n",
    "\n",
    "    for seed in range(max_repl):\n",
    "        np.random.seed(seed)\n",
    "        theta = init_theta()\n",
    "        current_loss = 1e+9\n",
    "\n",
    "        for iter in range(max_iter):\n",
    "            d_k = generate_d_k()\n",
    "            new_theta = theta + d_k[0]\n",
    "            loss = compute_loss(theta, sigma, noisy=False)\n",
    "\n",
    "            if loss < current_loss:\n",
    "                theta = new_theta\n",
    "                current_loss = loss\n",
    "\n",
    "        if type(current_loss) != np.float64:\n",
    "            current_loss = current_loss[0,0]\n",
    "        loss_list.append(current_loss)\n",
    "\n",
    "    print(f\"[Noisy Free / sigma {sigma}] Loss = {np.round(np.mean(loss_list), 3)} ± {np.round(np.std(loss_list, ddof=1),3)}\")\n",
    "\n",
    "avg_loss_num = 10\n",
    "for method in [\"avg\", \"theshold\"]:\n",
    "\n",
    "    for sigma in sigma_list:\n",
    "        loss_list = []\n",
    "\n",
    "        for seed in range(max_repl):\n",
    "            np.random.seed(seed)\n",
    "            theta = init_theta()\n",
    "            current_loss = 1e+9\n",
    "\n",
    "            for iter in range(max_iter):\n",
    "                d_k = generate_d_k()\n",
    "                new_theta = theta + d_k[0]\n",
    "\n",
    "                if method == \"avg\":\n",
    "                    obs_list = []\n",
    "                    for _ in range(avg_loss_num):\n",
    "                        obs_loss = compute_loss(new_theta, sigma)\n",
    "                        obs_list.append(obs_loss)\n",
    "                    loss = np.mean(obs_loss)\n",
    "                \n",
    "                else:\n",
    "                    loss = (compute_loss(new_theta, sigma) + sigma*2)\n",
    "\n",
    "                if loss < current_loss:\n",
    "                    theta = new_theta\n",
    "                    current_loss = loss\n",
    "\n",
    "            if type(current_loss) != np.float64:\n",
    "                current_loss = current_loss[0,0]\n",
    "            loss_list.append(current_loss)\n",
    "\n",
    "        print(f\"[Noisy / Method : {method} / sigma {sigma}] Loss = {np.round(np.mean(loss_list), 3)} ± {np.round(np.std(loss_list, ddof=1),3)}\")\n"
   ]
  },
  {
   "cell_type": "markdown",
   "id": "b73ed4d6-6f18-4b65-8e2c-edf17cafd927",
   "metadata": {},
   "source": [
    "## 3.2"
   ]
  },
  {
   "cell_type": "code",
   "execution_count": 8,
   "id": "26a69d3a-ddc1-4a4e-8f51-be4f5c25d73c",
   "metadata": {},
   "outputs": [],
   "source": [
    "import numpy as np\n",
    "import matplotlib.pyplot as plt\n",
    "\n",
    "\n",
    "def generate_w_k():\n",
    "    return np.random.normal(0,1,1)[0]\n",
    "\n",
    "\n",
    "def generate_x_k(x):\n",
    "    return -0.99 * x + generate_w_k()\n",
    "\n",
    "def compute_grad(y, x, theta):\n",
    "    return x*(x * theta - y)\n",
    "\n",
    "def update_theta(theta, grad, a):\n",
    "    return theta - a * grad\n",
    "\n",
    "max_iter = 500\n",
    "a = 0.005\n",
    "x = 0\n",
    "theta = 0\n",
    "\n",
    "theta_list = [theta]\n",
    "for _ in range(max_iter):\n",
    "    x_new = generate_x_k(x)\n",
    "    grad = compute_grad(x_new, x, theta)\n",
    "    theta = update_theta(theta, grad, a)\n",
    "    x = x_new\n",
    "    theta_list.append(theta)"
   ]
  },
  {
   "cell_type": "markdown",
   "id": "1168ea8b-eb9a-4757-9e1e-4978e37e0630",
   "metadata": {},
   "source": [
    "### (a)"
   ]
  },
  {
   "cell_type": "code",
   "execution_count": 9,
   "id": "31c0eeac-8539-4730-8715-c06091ff9ac4",
   "metadata": {},
   "outputs": [
    {
     "data": {
      "image/png": "[encoded data removed]",
      "text/plain": [
       "<Figure size 640x480 with 1 Axes>"
      ]
     },
     "metadata": {},
     "output_type": "display_data"
    }
   ],
   "source": [
    "plt.style.use('classic')\n",
    "plt.plot(theta_list)\n",
    "plt.xlabel(\"Iterations\")\n",
    "plt.ylabel(\"Estimates of beta\")\n",
    "plt.show()"
   ]
  },
  {
   "cell_type": "markdown",
   "id": "da1b8fee-aae4-4c95-85e1-d10fbb0c610b",
   "metadata": {},
   "source": [
    "### (b)"
   ]
  },
  {
   "cell_type": "code",
   "execution_count": 10,
   "id": "3c6aabb5-047c-41a2-acee-9010288c1c22",
   "metadata": {},
   "outputs": [
    {
     "name": "stdout",
     "output_type": "stream",
     "text": [
      "Estimates of Beta: -0.946 ± 0.056 (n = 50)\n"
     ]
    }
   ],
   "source": [
    "max_repl = 50\n",
    "max_iter = 500\n",
    "a = 0.005\n",
    "\n",
    "theta_list = []\n",
    "for seed in range(max_repl):\n",
    "    np.random.seed(seed)\n",
    "    x = 0\n",
    "    theta = 0\n",
    "    for _ in range(max_iter):\n",
    "        x_new = generate_x_k(x)\n",
    "        grad = compute_grad(x_new, x, theta)\n",
    "        theta = update_theta(theta, grad, a)\n",
    "        x = x_new\n",
    "    theta_list.append(theta)\n",
    "\n",
    "print(f\"Estimates of Beta: {np.round(np.mean(theta_list),3)} ± {np.round(np.std(theta_list, ddof=1),3)} (n = 50)\")"
   ]
  },
  {
   "cell_type": "markdown",
   "id": "ff6e78fd-4bca-497c-b9e1-d5a2ff3e058a",
   "metadata": {},
   "source": [
    "## 3.8"
   ]
  },
  {
   "cell_type": "code",
   "execution_count": 12,
   "id": "5478e371-cad9-450f-a6a6-14b3062f76de",
   "metadata": {},
   "outputs": [
    {
     "name": "stdout",
     "output_type": "stream",
     "text": [
      "[Iteration 10] theta = [1.03761981 2.7615011 ]\n",
      "[Iteration 100] theta = [0.99346027 2.49850425]\n",
      "[Iteration 1000] theta = [0.9998716  2.07836304]\n",
      "[Iteration 10000] theta = [0.9999995  2.00471345]\n"
     ]
    }
   ],
   "source": [
    "import numpy as np\n",
    "\n",
    "\n",
    "def generate_h_k(iter):\n",
    "    return np.array([iter, 1])\n",
    "\n",
    "\n",
    "def generate_v_k():\n",
    "    return np.random.normal(0, 1, 1)[0]\n",
    "\n",
    "\n",
    "def generate_z_k(h_k):\n",
    "    v_k = generate_v_k()\n",
    "    return np.inner(h_k, np.array([1, 2])) + v_k\n",
    "\n",
    "\n",
    "def compute_p_k(p_k_inv, h_k):\n",
    "    return np.linalg.inv(p_k_inv + np.outer(h_k, h_k))\n",
    "\n",
    "\n",
    "def update_theta(theta, p_k, p_k_inv, h_k, z_k):\n",
    "    return np.inner(p_k, (np.inner(p_k_inv, theta) + (h_k * z_k)))\n",
    "\n",
    "\n",
    "n_list = [10, 100, 1000, 10000]\n",
    "p_k = np.zeros([2, 2])\n",
    "np.fill_diagonal(p_k, 1., wrap=True)\n",
    "p_k *= 100\n",
    "theta = np.zeros([2])\n",
    "\n",
    "for iter in range(1, max(n_list)+1):\n",
    "    h_k = generate_h_k(iter)\n",
    "    z_k = generate_z_k(h_k)\n",
    "    p_k_inv = np.linalg.inv(p_k)\n",
    "    p_k = compute_p_k(p_k_inv, h_k)\n",
    "    theta = update_theta(theta, p_k, p_k_inv, h_k, z_k)\n",
    "    if iter in n_list:\n",
    "        print(f\"[Iteration {iter}] theta = {theta}\")\n",
    "    "
   ]
  },
  {
   "cell_type": "markdown",
   "id": "459604dc-80e9-415e-b455-ee821ad8b23b",
   "metadata": {},
   "source": [
    "* 업데이트 수 $n$에 따라 결과가 달라짐을 확인 할 수 있음"
   ]
  },
  {
   "cell_type": "markdown",
   "id": "02bc03b8-a314-4989-b096-73f46ad6baef",
   "metadata": {},
   "source": [
    "## 3.10"
   ]
  },
  {
   "cell_type": "code",
   "execution_count": 13,
   "id": "dcb168de-0425-4803-8ad8-420aa4953065",
   "metadata": {},
   "outputs": [],
   "source": [
    "import numpy as np\n",
    "\n",
    "\n",
    "def generate_h_k(iter):\n",
    "    return np.array([iter, 1])\n",
    "\n",
    "\n",
    "def generate_v_k(c):\n",
    "    return np.random.normal(0, c, 1)[0]\n",
    "\n",
    "\n",
    "def generate_z_k(h_k, c):\n",
    "    if h_k[0] % 2:\n",
    "        v_k = generate_v_k(1)\n",
    "    else: \n",
    "        v_k = generate_v_k(c)\n",
    "    return np.inner(h_k, np.array([1, 2])) + v_k"
   ]
  },
  {
   "cell_type": "code",
   "execution_count": 14,
   "id": "4f3bf394-a2cb-4122-90e2-b11ca70930ca",
   "metadata": {},
   "outputs": [
    {
     "name": "stdout",
     "output_type": "stream",
     "text": [
      "===========UNWEIGHTED RLS===========\n",
      "[C = 100 / Iteration 10] theta = [-3.31453187 37.43851152]\n",
      "[C = 100 / Iteration 100] theta = [  1.21142865 -14.4799873 ]\n",
      "[C = 100 / Iteration 1000] theta = [0.99316249 0.57261662]\n",
      "[C = 100 / Iteration 10000] theta = [ 1.00058738 -1.48140724]\n",
      "[C = 100 / Iteration 100000] theta = [1.00001289 1.37303256]\n",
      "[C = 1000 / Iteration 10] theta = [1.00001261 1.39114018]\n",
      "[C = 1000 / Iteration 100] theta = [1.00001678 1.11370247]\n",
      "[C = 1000 / Iteration 1000] theta = [1.00000722 1.75193476]\n",
      "[C = 1000 / Iteration 10000] theta = [0.99998448 3.32349998]\n",
      "[C = 1000 / Iteration 100000] theta = [ 0.99999647 -0.07018419]\n",
      "\n"
     ]
    }
   ],
   "source": [
    "def compute_p_k(p_k, h_k):\n",
    "    numer = np.outer(np.inner(p_k, h_k), h_k) @ p_k\n",
    "    denom = 1 + np.inner(np.inner(h_k, p_k), h_k)\n",
    "    return p_k - numer / denom\n",
    "\n",
    "\n",
    "def update_theta(theta, p_k, h_k, z_k):\n",
    "    return theta - (p_k @ h_k) * (np.inner(h_k, theta) - z_k)\n",
    "\n",
    "\n",
    "n_list = [10, 100, 1000, 10000, 100000]\n",
    "c_list = [100, 1000]\n",
    "\n",
    "theta = np.zeros([2])\n",
    "p_k = np.zeros([2, 2])\n",
    "np.fill_diagonal(p_k, 1., wrap=True)\n",
    "p_k *= 100\n",
    "\n",
    "print(\"===========UNWEIGHTED RLS===========\")\n",
    "for c in c_list:\n",
    "    for iter in range(1, max(n_list)+1):\n",
    "        h_k = generate_h_k(iter)\n",
    "        z_k = generate_z_k(h_k, c)\n",
    "        p_k = compute_p_k(p_k, h_k)\n",
    "        theta = update_theta(theta, p_k, h_k, z_k)\n",
    "        if iter in n_list:\n",
    "            print(f\"[C = {c} / Iteration {iter}] theta = {theta}\")\n",
    "print()"
   ]
  },
  {
   "cell_type": "code",
   "execution_count": 15,
   "id": "92dee5ca-48ca-4ad7-9864-650f6c4c2d20",
   "metadata": {},
   "outputs": [
    {
     "name": "stdout",
     "output_type": "stream",
     "text": [
      "==========WEIGHTED RLS==========\n",
      "[C = 100 / Iteration 10] theta = [1.03057857 0.90027507]\n",
      "[C = 100 / Iteration 100] theta = [1.00494368 1.77184645]\n",
      "[C = 100 / Iteration 1000] theta = [0.99977449 2.1518769 ]\n",
      "[C = 100 / Iteration 10000] theta = [0.99999427 2.04587321]\n",
      "[C = 100 / Iteration 100000] theta = [0.99999998 2.00167136]\n",
      "[C = 1000 / Iteration 10] theta = [0.99999998 2.00155401]\n",
      "[C = 1000 / Iteration 100] theta = [1.         2.00025922]\n",
      "[C = 1000 / Iteration 1000] theta = [1.00000002 1.99861169]\n",
      "[C = 1000 / Iteration 10000] theta = [0.99999997 2.00195292]\n",
      "[C = 1000 / Iteration 100000] theta = [1.00000008 1.99780157]\n",
      "\n"
     ]
    }
   ],
   "source": [
    "def compute_p_k(p_k, h_k, c):\n",
    "    numer = np.outer(np.inner(p_k, h_k), h_k) @ p_k\n",
    "    if h_k[0] % 2 :\n",
    "        weight = 1\n",
    "    else:\n",
    "        weight = c\n",
    "    denom = weight + np.inner(np.inner(h_k, p_k), h_k)\n",
    "    return p_k - numer / denom\n",
    "\n",
    "\n",
    "def update_theta(theta, p_k, h_k, z_k, c):\n",
    "    if h_k[0] % 2 :\n",
    "        weight = 1\n",
    "    else:\n",
    "        weight = c\n",
    "    return theta - (p_k @ h_k) / weight * (np.inner(h_k, theta) - z_k)\n",
    "\n",
    "\n",
    "n_list = [10, 100, 1000, 10000, 100000]\n",
    "c_list = [100, 1000]\n",
    "\n",
    "theta = np.zeros([2])\n",
    "p_k = np.zeros([2, 2])\n",
    "np.fill_diagonal(p_k, 1., wrap=True)\n",
    "p_k *= 100\n",
    "\n",
    "print(\"==========WEIGHTED RLS==========\")\n",
    "for c in c_list:\n",
    "    for iter in range(1, max(n_list)+1):\n",
    "        h_k = generate_h_k(iter)\n",
    "        z_k = generate_z_k(h_k, c)\n",
    "        p_k = compute_p_k(p_k, h_k, c)\n",
    "        theta = update_theta(theta, p_k, h_k, z_k, c)\n",
    "        if iter in n_list:\n",
    "            print(f\"[C = {c} / Iteration {iter}] theta = {theta}\")\n",
    "print()"
   ]
  }
 ],
 "metadata": {
  "kernelspec": {
   "display_name": "Python 3 (ipykernel)",
   "language": "python",
   "name": "python3"
  },
  "language_info": {
   "codemirror_mode": {
    "name": "ipython",
    "version": 3
   },
   "file_extension": ".py",
   "mimetype": "text/x-python",
   "name": "python",
   "nbconvert_exporter": "python",
   "pygments_lexer": "ipython3",
   "version": "3.10.0"
  }
 },
 "nbformat": 4,
 "nbformat_minor": 5
}
